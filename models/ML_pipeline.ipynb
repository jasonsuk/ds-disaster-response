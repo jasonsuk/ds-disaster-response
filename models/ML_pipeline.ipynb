{
 "cells": [
  {
   "cell_type": "markdown",
   "metadata": {},
   "source": [
    "# ML Pipeline Preparation\n",
    "\n",
    "## 1. Import libraries and load data from database.\n",
    "- Load dataset from database with [`read_sql_table`](https://pandas.pydata.org/pandas-docs/stable/generated/pandas.read_sql_table.html)"
   ]
  },
  {
   "cell_type": "code",
   "execution_count": 1,
   "metadata": {},
   "outputs": [],
   "source": [
    "# import libraries\n",
    "import numpy as np\n",
    "import pandas as pd\n",
    "import matplotlib.pyplot as plt\n",
    "\n",
    "from sqlalchemy import create_engine\n",
    "import pickle"
   ]
  },
  {
   "cell_type": "code",
   "execution_count": 2,
   "metadata": {},
   "outputs": [],
   "source": [
    "# nlp libraries\n",
    "import nltk\n",
    "# nltk.download() # run only once\n",
    "\n",
    "from nltk.tokenize import word_tokenize\n",
    "from nltk.corpus import stopwords\n",
    "from nltk.stem.wordnet import WordNetLemmatizer"
   ]
  },
  {
   "cell_type": "code",
   "execution_count": 3,
   "metadata": {},
   "outputs": [],
   "source": [
    "# scikit-learn libraries\n",
    "from sklearn.pipeline import Pipeline\n",
    "from sklearn.multioutput import MultiOutputClassifier\n",
    "from sklearn.model_selection import train_test_split\n",
    "\n",
    "from sklearn.feature_extraction.text import CountVectorizer, TfidfTransformer \n",
    "\n",
    "from sklearn.linear_model import LogisticRegression\n",
    "from sklearn.svm import LinearSVC\n",
    "from sklearn.ensemble import RandomForestClassifier\n",
    "\n",
    "from sklearn.metrics import classification_report\n",
    "from sklearn.metrics import accuracy_score, recall_score, precision_score, f1_score\n",
    "from sklearn.metrics import confusion_matrix\n",
    "from sklearn.metrics import make_scorer\n",
    "\n",
    "from sklearn.model_selection import GridSearchCV"
   ]
  },
  {
   "cell_type": "code",
   "execution_count": 2,
   "metadata": {},
   "outputs": [],
   "source": [
    "#in case that autocomplete does not work on the notebook\n",
    "%config Completer.use_jedi = False"
   ]
  },
  {
   "cell_type": "code",
   "execution_count": 3,
   "metadata": {},
   "outputs": [],
   "source": [
    "# load data from database\n",
    "engine = create_engine('sqlite:///../data/DisasterResponse.db')\n",
    "df = pd.read_sql_table('messages', engine)"
   ]
  },
  {
   "cell_type": "code",
   "execution_count": 4,
   "metadata": {
    "scrolled": true
   },
   "outputs": [
    {
     "data": {
      "text/plain": [
       "direct_report          0.193591\n",
       "weather_related        0.278352\n",
       "aid_related            0.414267\n",
       "related                0.766470\n",
       "id                 15224.871333\n",
       "Name: mean, dtype: float64"
      ]
     },
     "execution_count": 4,
     "metadata": {},
     "output_type": "execute_result"
    }
   ],
   "source": [
    "# Last five average values (ascending order)\n",
    "df.describe().loc['mean'].sort_values().tail(5)"
   ]
  },
  {
   "cell_type": "code",
   "execution_count": 5,
   "metadata": {},
   "outputs": [
    {
     "data": {
      "text/plain": [
       "child_alone    0.000000\n",
       "offer          0.004501\n",
       "shops          0.004578\n",
       "tools          0.006065\n",
       "fire           0.010757\n",
       "Name: mean, dtype: float64"
      ]
     },
     "execution_count": 5,
     "metadata": {},
     "output_type": "execute_result"
    }
   ],
   "source": [
    "# First 5 average values \n",
    "df.describe().loc['mean'].sort_values().head(5)"
   ]
  },
  {
   "cell_type": "markdown",
   "metadata": {},
   "source": [
    "The above code gives the mean of binary values for each category. If the proportion between 0 and 1 are well balanced, it will give 0.5. Except for `related` and `aid-related` columns, all the other categories are quite biased to 0, which is worth noting.\n",
    "\n",
    "Coming from the future, some classifier algorithms give errors if they find a feature with only one class, which is the case for `child_alone`. Therefore we will drop the column."
   ]
  },
  {
   "cell_type": "code",
   "execution_count": 14,
   "metadata": {},
   "outputs": [],
   "source": [
    "# Dropping 'child_alone' feature\n",
    "df.drop(columns='child_alone', inplace=True)"
   ]
  },
  {
   "cell_type": "markdown",
   "metadata": {},
   "source": [
    "For modeling, extracting predictor variable X and response variable Y.\n",
    "\n",
    "- Predictor variable X : english-translate messages, which will need some preprocessing\n",
    "\n",
    "- Response variable Y : matrix of 35 catogories (after `child_alone` columns was dropped) and corresponding binary values."
   ]
  },
  {
   "cell_type": "code",
   "execution_count": 15,
   "metadata": {},
   "outputs": [],
   "source": [
    "X = df['message'] \n",
    "Y = df.iloc[:, 4:]"
   ]
  },
  {
   "cell_type": "code",
   "execution_count": 16,
   "metadata": {},
   "outputs": [],
   "source": [
    "# Checking if predictor variable X contains 35 categories\n",
    "# Ture if no error pops up\n",
    "assert Y.shape[1] == 35"
   ]
  },
  {
   "cell_type": "markdown",
   "metadata": {},
   "source": [
    "## 2. Write a tokenization function to process your text data"
   ]
  },
  {
   "cell_type": "code",
   "execution_count": 17,
   "metadata": {},
   "outputs": [],
   "source": [
    "def tokenize(text):\n",
    "    ''' Split text into tokens follwed by preprocessing processes to\n",
    "    lowercase the text, remove stopwords and remove puntuations. \n",
    "    Then return lemmatized tokens.\n",
    "    \n",
    "    Arguments:\n",
    "        text <-- disaster response message\n",
    "    Output : \n",
    "        tokens    \n",
    "    '''\n",
    "                \n",
    "    \n",
    "\n",
    "    tokens = [\n",
    "        word.strip() for word in word_tokenize(text.lower())\n",
    "        if (word not in stopwords.words('english') and  # not stopword\n",
    "            word.isalnum()) # is alpha-numeric word           \n",
    "    ]\n",
    "    \n",
    "    # Lemmatize tokens\n",
    "    lemmatizer = WordNetLemmatizer() # instantiate a lemmatizer\n",
    "    lemmed = [lemmatizer.lemmatize(token) for token in tokens]\n",
    "    \n",
    "    return lemmed"
   ]
  },
  {
   "cell_type": "code",
   "execution_count": 18,
   "metadata": {},
   "outputs": [
    {
     "name": "stdout",
     "output_type": "stream",
     "text": [
      "Original text  : Weather update - a cold front from Cuba that could pass over Haiti\n",
      "Tokenized text : ['weather', 'update', 'cold', 'front', 'cuba', 'could', 'pas', 'haiti']\n",
      "\n",
      "Original text  : Is the Hurricane over or is it not over\n",
      "Tokenized text : ['hurricane']\n",
      "\n",
      "Original text  : Looking for someone but no name\n",
      "Tokenized text : ['looking', 'someone', 'name']\n",
      "\n",
      "Original text  : UN reports Leogane 80-90 destroyed. Only Hospital St. Croix functioning. Needs supplies desperately.\n",
      "Tokenized text : ['un', 'report', 'leogane', 'destroyed', 'hospital', 'croix', 'functioning', 'need', 'supply', 'desperately']\n",
      "\n",
      "Original text  : says: west side of Haiti, rest of the country today and tonight\n",
      "Tokenized text : ['say', 'west', 'side', 'haiti', 'rest', 'country', 'today', 'tonight']\n",
      "\n"
     ]
    }
   ],
   "source": [
    "# Testing the function \n",
    "sample_texts = X[:5]\n",
    "\n",
    "for text in sample_texts :\n",
    "    print(f'Original text  : {text}')\n",
    "    print(f'Tokenized text : {tokenize(text)}')\n",
    "    print()"
   ]
  },
  {
   "cell_type": "markdown",
   "metadata": {},
   "source": [
    "## 3. Build a machine learning pipeline\n",
    "This machine pipeline should take in the `message` column as input and output classification results on the other 36 categories in the dataset. You may find the [MultiOutputClassifier](http://scikit-learn.org/stable/modules/generated/sklearn.multioutput.MultiOutputClassifier.html) helpful for predicting multiple target variables."
   ]
  },
  {
   "cell_type": "code",
   "execution_count": 19,
   "metadata": {},
   "outputs": [],
   "source": [
    "pipeline_test = Pipeline([\n",
    "    ('vect', CountVectorizer(tokenizer=tokenize)),\n",
    "    ('tfidf', TfidfTransformer()),    \n",
    "    ('clf', MultiOutputClassifier(LogisticRegression()))\n",
    "])"
   ]
  },
  {
   "cell_type": "markdown",
   "metadata": {},
   "source": [
    "## 4. Train pipeline"
   ]
  },
  {
   "cell_type": "code",
   "execution_count": 20,
   "metadata": {},
   "outputs": [],
   "source": [
    "# Split data into train and test sets\n",
    "X_train, X_test, Y_train, Y_test = train_test_split(X, Y, test_size=0.25, random_state=11)"
   ]
  },
  {
   "cell_type": "code",
   "execution_count": 21,
   "metadata": {
    "scrolled": false
   },
   "outputs": [
    {
     "data": {
      "text/plain": [
       "Pipeline(steps=[('vect',\n",
       "                 CountVectorizer(tokenizer=<function tokenize at 0x7fb0af4bfdc0>)),\n",
       "                ('tfidf', TfidfTransformer()),\n",
       "                ('clf', MultiOutputClassifier(estimator=LogisticRegression()))])"
      ]
     },
     "execution_count": 21,
     "metadata": {},
     "output_type": "execute_result"
    }
   ],
   "source": [
    "# Fitting the model to the train sets (takes some minutes)\n",
    "pipeline_test.fit(X_train, Y_train)"
   ]
  },
  {
   "cell_type": "markdown",
   "metadata": {},
   "source": [
    "#### Debugging : \n",
    "\n",
    "`ValueError: This solver needs samples of at least 2 classes in the data, but the data contains only one class: 0`\n",
    "\n",
    "will return when data contains only one class, which is the case for `child_alone` column. There the column needs to be removed."
   ]
  },
  {
   "cell_type": "markdown",
   "metadata": {},
   "source": [
    "## 5. Test your model\n",
    "Report the f1 score, precision and recall for each output category of the dataset. You can do this by iterating through the columns and calling sklearn's `classification_report` on each."
   ]
  },
  {
   "cell_type": "markdown",
   "metadata": {},
   "source": [
    "### Prediction on X_test"
   ]
  },
  {
   "cell_type": "code",
   "execution_count": 22,
   "metadata": {},
   "outputs": [],
   "source": [
    "# Predict on X_test\n",
    "Y_pred = pipeline_test.predict(X_test)"
   ]
  },
  {
   "cell_type": "markdown",
   "metadata": {},
   "source": [
    "### Evaluating with metrics"
   ]
  },
  {
   "cell_type": "code",
   "execution_count": 27,
   "metadata": {
    "scrolled": false
   },
   "outputs": [
    {
     "name": "stdout",
     "output_type": "stream",
     "text": [
      "Accuracy score:  0.2863899908452853\n",
      "\n",
      "                        precision    recall  f1-score   support\n",
      "\n",
      "               related       0.85      0.95      0.90      5046\n",
      "               request       0.80      0.51      0.63      1129\n",
      "                 offer       0.00      0.00      0.00        34\n",
      "           aid_related       0.77      0.68      0.72      2714\n",
      "          medical_help       0.65      0.18      0.28       543\n",
      "      medical_products       0.81      0.18      0.29       335\n",
      "     search_and_rescue       0.88      0.04      0.07       190\n",
      "              security       0.00      0.00      0.00       131\n",
      "              military       0.62      0.12      0.20       215\n",
      "                 water       0.79      0.49      0.61       388\n",
      "                  food       0.82      0.56      0.66       710\n",
      "               shelter       0.81      0.43      0.56       550\n",
      "              clothing       0.82      0.28      0.42       100\n",
      "                 money       0.62      0.05      0.10       150\n",
      "        missing_people       0.00      0.00      0.00        95\n",
      "              refugees       0.71      0.04      0.08       226\n",
      "                 death       0.84      0.26      0.39       295\n",
      "             other_aid       0.57      0.11      0.19       855\n",
      "infrastructure_related       0.50      0.03      0.05       442\n",
      "             transport       0.79      0.10      0.18       314\n",
      "             buildings       0.76      0.19      0.30       318\n",
      "           electricity       0.54      0.05      0.10       130\n",
      "                 tools       0.00      0.00      0.00        54\n",
      "             hospitals       0.00      0.00      0.00        80\n",
      "                 shops       0.00      0.00      0.00        34\n",
      "           aid_centers       0.00      0.00      0.00        81\n",
      "  other_infrastructure       0.36      0.01      0.03       292\n",
      "       weather_related       0.84      0.64      0.73      1808\n",
      "                floods       0.91      0.42      0.58       549\n",
      "                 storm       0.76      0.47      0.58       592\n",
      "                  fire       0.25      0.02      0.03        65\n",
      "            earthquake       0.89      0.62      0.73       613\n",
      "                  cold       0.92      0.08      0.14       144\n",
      "         other_weather       0.54      0.05      0.08       326\n",
      "         direct_report       0.75      0.41      0.53      1279\n",
      "\n",
      "             micro avg       0.81      0.54      0.65     20827\n",
      "             macro avg       0.58      0.23      0.29     20827\n",
      "          weighted avg       0.76      0.54      0.59     20827\n",
      "           samples avg       0.67      0.49      0.52     20827\n",
      "\n"
     ]
    },
    {
     "name": "stderr",
     "output_type": "stream",
     "text": [
      "/Users/jsuk/opt/anaconda3/envs/ds_env/lib/python3.8/site-packages/sklearn/metrics/_classification.py:1221: UndefinedMetricWarning: Precision and F-score are ill-defined and being set to 0.0 in labels with no predicted samples. Use `zero_division` parameter to control this behavior.\n",
      "  _warn_prf(average, modifier, msg_start, len(result))\n",
      "/Users/jsuk/opt/anaconda3/envs/ds_env/lib/python3.8/site-packages/sklearn/metrics/_classification.py:1221: UndefinedMetricWarning: Precision and F-score are ill-defined and being set to 0.0 in samples with no predicted labels. Use `zero_division` parameter to control this behavior.\n",
      "  _warn_prf(average, modifier, msg_start, len(result))\n",
      "/Users/jsuk/opt/anaconda3/envs/ds_env/lib/python3.8/site-packages/sklearn/metrics/_classification.py:1221: UndefinedMetricWarning: Recall and F-score are ill-defined and being set to 0.0 in samples with no true labels. Use `zero_division` parameter to control this behavior.\n",
      "  _warn_prf(average, modifier, msg_start, len(result))\n"
     ]
    }
   ],
   "source": [
    "# Printing classification report\n",
    "print('Accuracy score: ', accuracy_score(Y_test.values, Y_pred), end='\\n\\n')\n",
    "print(classification_report(Y_test.values, Y_pred, target_names=Y.columns.values))"
   ]
  },
  {
   "cell_type": "markdown",
   "metadata": {},
   "source": [
    "Note that `random_state=11` is set when splitting train and test sets, and the results may be different across different randome states.  \n",
    "\n",
    "Accuracy score is extremely low, and the averaged scores (micro, maro and weighted) did not show high scores. Given `macro avg`, calculates metrics for each label and then find the average, the lower f1 macro avg score is attributed to some zero f1 scores, especially from cateogories with relatively scarce data, i.e. 'offer', 'child_alone', missing people', etc. \n",
    "\n",
    "<font color=\"orangered\">Due to label imbalances, <strong>macro avg</strong> is not a good solution (according to scikit-learn's documentation at the link below) and we will adopt <strong>micro avg</strong> and <strong>weighted avg</strong> for model evaluation, hereafter.</font>\n",
    "\n",
    "**Terminology for the scores can be found in detail** at the link [here](https://scikit-learn.org/stable/modules/generated/sklearn.metrics.precision_recall_fscore_support.html#sklearn.metrics.precision_recall_fscore_support)."
   ]
  },
  {
   "cell_type": "markdown",
   "metadata": {},
   "source": [
    "### [EXTRA] Zero F1 score\n",
    "The zero f1 scores are due to `zero-divison` issues. Let's inspect."
   ]
  },
  {
   "cell_type": "code",
   "execution_count": 59,
   "metadata": {},
   "outputs": [],
   "source": [
    "# Return the report in dictionary\n",
    "clf_result = classification_report(Y_test.values, Y_pred, target_names=Y.columns.values, output_dict=True)"
   ]
  },
  {
   "cell_type": "code",
   "execution_count": 63,
   "metadata": {},
   "outputs": [],
   "source": [
    "# Construct a list of columns with zero f1-score\n",
    "zero_div_cols = []\n",
    "\n",
    "for key, value in clf_result.items() : \n",
    "    if value['f1-score'] == 0 : \n",
    "        zero_div_cols.append(key)"
   ]
  },
  {
   "cell_type": "code",
   "execution_count": 64,
   "metadata": {},
   "outputs": [],
   "source": [
    "# Y_pred is array --> convert to a dataframe\n",
    "Y_pred_df = pd.DataFrame(Y_pred, columns=Y.columns.values)"
   ]
  },
  {
   "cell_type": "code",
   "execution_count": 65,
   "metadata": {
    "scrolled": false
   },
   "outputs": [
    {
     "name": "stdout",
     "output_type": "stream",
     "text": [
      "Confusion matrix for zero f1 scored categories\n",
      "\n",
      " <offer> category\n",
      "[[6520    0]\n",
      " [  34    0]]\n",
      "\n",
      " <security> category\n",
      "[[6423    0]\n",
      " [ 131    0]]\n",
      "\n",
      " <missing_people> category\n",
      "[[6459    0]\n",
      " [  95    0]]\n",
      "\n",
      " <tools> category\n",
      "[[6500    0]\n",
      " [  54    0]]\n",
      "\n",
      " <hospitals> category\n",
      "[[6474    0]\n",
      " [  80    0]]\n",
      "\n",
      " <shops> category\n",
      "[[6520    0]\n",
      " [  34    0]]\n",
      "\n",
      " <aid_centers> category\n",
      "[[6473    0]\n",
      " [  81    0]]\n",
      "\n"
     ]
    }
   ],
   "source": [
    "print('Confusion matrix for zero f1 scored categories', end='\\n\\n')\n",
    "for col in zero_div_cols : \n",
    "    print(f' <{col}> category')\n",
    "    print(confusion_matrix(Y_test[col], Y_pred_df[col], labels=[0, 1]), end='\\n\\n')"
   ]
  },
  {
   "cell_type": "markdown",
   "metadata": {},
   "source": [
    "True Positive(TP) is zero for the zero-division categories, and there are recall, precision and then f1-scores return zero.\n",
    "\n",
    "- Recall : TP / (TP + FN)\n",
    "- Precision : TP / (TP + FP)\n",
    "- F1 score : 2 x (recall x precision) / (recall + precision)\n",
    "\n",
    "Source : Wikipedia at the link [here](https://en.wikipedia.org/wiki/Confusion_matrix)."
   ]
  },
  {
   "cell_type": "markdown",
   "metadata": {},
   "source": [
    "### [EXTRA] Inspecting True Positives\n",
    "Using the original dataset, `df`"
   ]
  },
  {
   "cell_type": "code",
   "execution_count": 66,
   "metadata": {},
   "outputs": [
    {
     "data": {
      "image/png": "[encoded data removed]",
      "text/plain": [
       "<Figure size 1080x1080 with 36 Axes>"
      ]
     },
     "metadata": {
      "needs_background": "light"
     },
     "output_type": "display_data"
    }
   ],
   "source": [
    "df.hist(figsize=(15,15));\n",
    "plt.tight_layout()\n",
    "plt.show()"
   ]
  },
  {
   "cell_type": "markdown",
   "metadata": {},
   "source": [
    "As seen earlier in the original dataframe `df`, many categories have imblanced proportion of binary values.  A majority of categories does not have enough set of positive/true values(represented as 1), especially for the categories that reported zero-division / zero true positive."
   ]
  },
  {
   "cell_type": "markdown",
   "metadata": {},
   "source": [
    "### Function for model evaluation"
   ]
  },
  {
   "cell_type": "code",
   "execution_count": 28,
   "metadata": {},
   "outputs": [],
   "source": [
    "def evaluate_model(y_test, y_pred, expand=False) : \n",
    "    ''' Evaluate the performance of classification model.\n",
    "    Metrics include accuracy score, and micro and weighted average\n",
    "    of recall, precision and f1 score -- macro average is not used \n",
    "    due to feature imblances and weighted average to supplment instead\n",
    "        \n",
    "    Arguments:\n",
    "        y_test : target variable of the test set\n",
    "        y_pred : predicted target variable \n",
    "        expand : default to False. If True, expand to the full report\n",
    "        that includes scores for individual label and aggregated.\n",
    "   \n",
    "    Output:\n",
    "        To print evaluated scores     \n",
    "    '''\n",
    "    \n",
    "    # To block zero-division error messages \n",
    "    # which we already know that exists     \n",
    "    import warnings\n",
    "    warnings.filterwarnings('ignore')\n",
    "\n",
    "    # Printing scores\n",
    "    accuracy =  accuracy_score(np.array(y_test), np.array(y_pred)) * 100\n",
    "    print(f'Accuracy score: {accuracy:.2f}%', end='\\n\\n')\n",
    "    print(f'Classification score:')\n",
    "    \n",
    "    if expand : \n",
    "        clf_report = classification_report(np.array(y_test), np.array(y_pred), \n",
    "                                           target_names=y_test.columns.values, \n",
    "                                           output_dict=False)\n",
    "        print(clf_report)\n",
    "\n",
    "    else : \n",
    "        clf_report = classification_report(np.array(y_test), np.array(y_pred),\n",
    "                                           target_names=y_test.columns.values, \n",
    "                                           output_dict=True)\n",
    "        \n",
    "        \n",
    "        df = pd.DataFrame(clf_report)\n",
    "        \n",
    "        \n",
    "        print(df[['micro avg', 'weighted avg']].T)\n",
    "        "
   ]
  },
  {
   "cell_type": "code",
   "execution_count": 29,
   "metadata": {},
   "outputs": [
    {
     "name": "stdout",
     "output_type": "stream",
     "text": [
      "Accuracy score: 28.64%\n",
      "\n",
      "Classification score:\n",
      "              precision    recall  f1-score  support\n",
      "micro avg      0.811769  0.536515  0.646045  20827.0\n",
      "weighted avg   0.756561  0.536515  0.585830  20827.0\n"
     ]
    }
   ],
   "source": [
    "evaluate_model(Y_test, Y_pred, expand=False)"
   ]
  },
  {
   "cell_type": "markdown",
   "metadata": {},
   "source": [
    "## 6. Improve your model\n",
    "Use grid search to find better parameters. "
   ]
  },
  {
   "cell_type": "code",
   "execution_count": 134,
   "metadata": {},
   "outputs": [],
   "source": [
    "# Load the same pipeline_test again\n",
    "pipeline_test = Pipeline([\n",
    "    ('vect', CountVectorizer(tokenizer=tokenize)),\n",
    "    ('tfidf', TfidfTransformer()),\n",
    "    ('clf', MultiOutputClassifier(LogisticRegression()))\n",
    "])"
   ]
  },
  {
   "cell_type": "code",
   "execution_count": 135,
   "metadata": {},
   "outputs": [],
   "source": [
    "params = {\n",
    "    'tfidf__use_idf': (True, False),\n",
    "    'tfidf__smooth_idf': (True, False),\n",
    "    'clf__estimator__C': (1, 100, 200) # C=100 --> less regularized\n",
    "}\n",
    "\n",
    "scorer = make_scorer(f1_score, average='micro') # average of all labels\n",
    "cv = GridSearchCV(pipeline_test, params, verbose=3, scoring=scorer, n_jobs=1, cv=2)"
   ]
  },
  {
   "cell_type": "code",
   "execution_count": 136,
   "metadata": {
    "scrolled": false
   },
   "outputs": [
    {
     "name": "stdout",
     "output_type": "stream",
     "text": [
      "Fitting 2 folds for each of 12 candidates, totalling 24 fits\n",
      "[CV] clf__estimator__C=1, tfidf__smooth_idf=True, tfidf__use_idf=True \n"
     ]
    },
    {
     "name": "stderr",
     "output_type": "stream",
     "text": [
      "[Parallel(n_jobs=1)]: Using backend SequentialBackend with 1 concurrent workers.\n"
     ]
    },
    {
     "name": "stdout",
     "output_type": "stream",
     "text": [
      "[CV]  clf__estimator__C=1, tfidf__smooth_idf=True, tfidf__use_idf=True, score=0.626, total= 1.1min\n",
      "[CV] clf__estimator__C=1, tfidf__smooth_idf=True, tfidf__use_idf=True \n"
     ]
    },
    {
     "name": "stderr",
     "output_type": "stream",
     "text": [
      "[Parallel(n_jobs=1)]: Done   1 out of   1 | elapsed:  1.1min remaining:    0.0s\n"
     ]
    },
    {
     "name": "stdout",
     "output_type": "stream",
     "text": [
      "[CV]  clf__estimator__C=1, tfidf__smooth_idf=True, tfidf__use_idf=True, score=0.627, total= 1.1min\n",
      "[CV] clf__estimator__C=1, tfidf__smooth_idf=True, tfidf__use_idf=False \n"
     ]
    },
    {
     "name": "stderr",
     "output_type": "stream",
     "text": [
      "[Parallel(n_jobs=1)]: Done   2 out of   2 | elapsed:  2.2min remaining:    0.0s\n"
     ]
    },
    {
     "name": "stdout",
     "output_type": "stream",
     "text": [
      "[CV]  clf__estimator__C=1, tfidf__smooth_idf=True, tfidf__use_idf=False, score=0.642, total= 1.1min\n",
      "[CV] clf__estimator__C=1, tfidf__smooth_idf=True, tfidf__use_idf=False \n",
      "[CV]  clf__estimator__C=1, tfidf__smooth_idf=True, tfidf__use_idf=False, score=0.641, total= 1.1min\n",
      "[CV] clf__estimator__C=1, tfidf__smooth_idf=False, tfidf__use_idf=True \n",
      "[CV]  clf__estimator__C=1, tfidf__smooth_idf=False, tfidf__use_idf=True, score=0.625, total= 1.1min\n",
      "[CV] clf__estimator__C=1, tfidf__smooth_idf=False, tfidf__use_idf=True \n",
      "[CV]  clf__estimator__C=1, tfidf__smooth_idf=False, tfidf__use_idf=True, score=0.626, total= 1.1min\n",
      "[CV] clf__estimator__C=1, tfidf__smooth_idf=False, tfidf__use_idf=False \n",
      "[CV]  clf__estimator__C=1, tfidf__smooth_idf=False, tfidf__use_idf=False, score=0.642, total= 1.1min\n",
      "[CV] clf__estimator__C=1, tfidf__smooth_idf=False, tfidf__use_idf=False \n",
      "[CV]  clf__estimator__C=1, tfidf__smooth_idf=False, tfidf__use_idf=False, score=0.641, total= 1.1min\n",
      "[CV] clf__estimator__C=100, tfidf__smooth_idf=True, tfidf__use_idf=True \n",
      "[CV]  clf__estimator__C=100, tfidf__smooth_idf=True, tfidf__use_idf=True, score=0.635, total= 1.2min\n",
      "[CV] clf__estimator__C=100, tfidf__smooth_idf=True, tfidf__use_idf=True \n",
      "[CV]  clf__estimator__C=100, tfidf__smooth_idf=True, tfidf__use_idf=True, score=0.632, total= 1.2min\n",
      "[CV] clf__estimator__C=100, tfidf__smooth_idf=True, tfidf__use_idf=False \n",
      "[CV]  clf__estimator__C=100, tfidf__smooth_idf=True, tfidf__use_idf=False, score=0.645, total= 1.2min\n",
      "[CV] clf__estimator__C=100, tfidf__smooth_idf=True, tfidf__use_idf=False \n",
      "[CV]  clf__estimator__C=100, tfidf__smooth_idf=True, tfidf__use_idf=False, score=0.642, total= 1.2min\n",
      "[CV] clf__estimator__C=100, tfidf__smooth_idf=False, tfidf__use_idf=True \n",
      "[CV]  clf__estimator__C=100, tfidf__smooth_idf=False, tfidf__use_idf=True, score=0.634, total= 1.2min\n",
      "[CV] clf__estimator__C=100, tfidf__smooth_idf=False, tfidf__use_idf=True \n",
      "[CV]  clf__estimator__C=100, tfidf__smooth_idf=False, tfidf__use_idf=True, score=0.631, total= 1.2min\n",
      "[CV] clf__estimator__C=100, tfidf__smooth_idf=False, tfidf__use_idf=False \n",
      "[CV]  clf__estimator__C=100, tfidf__smooth_idf=False, tfidf__use_idf=False, score=0.645, total= 1.3min\n",
      "[CV] clf__estimator__C=100, tfidf__smooth_idf=False, tfidf__use_idf=False \n",
      "[CV]  clf__estimator__C=100, tfidf__smooth_idf=False, tfidf__use_idf=False, score=0.642, total= 1.2min\n",
      "[CV] clf__estimator__C=200, tfidf__smooth_idf=True, tfidf__use_idf=True \n",
      "[CV]  clf__estimator__C=200, tfidf__smooth_idf=True, tfidf__use_idf=True, score=0.627, total= 1.2min\n",
      "[CV] clf__estimator__C=200, tfidf__smooth_idf=True, tfidf__use_idf=True \n",
      "[CV]  clf__estimator__C=200, tfidf__smooth_idf=True, tfidf__use_idf=True, score=0.623, total= 1.2min\n",
      "[CV] clf__estimator__C=200, tfidf__smooth_idf=True, tfidf__use_idf=False \n",
      "[CV]  clf__estimator__C=200, tfidf__smooth_idf=True, tfidf__use_idf=False, score=0.636, total= 1.2min\n",
      "[CV] clf__estimator__C=200, tfidf__smooth_idf=True, tfidf__use_idf=False \n",
      "[CV]  clf__estimator__C=200, tfidf__smooth_idf=True, tfidf__use_idf=False, score=0.633, total= 1.2min\n",
      "[CV] clf__estimator__C=200, tfidf__smooth_idf=False, tfidf__use_idf=True \n",
      "[CV]  clf__estimator__C=200, tfidf__smooth_idf=False, tfidf__use_idf=True, score=0.626, total= 1.2min\n",
      "[CV] clf__estimator__C=200, tfidf__smooth_idf=False, tfidf__use_idf=True \n",
      "[CV]  clf__estimator__C=200, tfidf__smooth_idf=False, tfidf__use_idf=True, score=0.623, total= 1.2min\n",
      "[CV] clf__estimator__C=200, tfidf__smooth_idf=False, tfidf__use_idf=False \n",
      "[CV]  clf__estimator__C=200, tfidf__smooth_idf=False, tfidf__use_idf=False, score=0.636, total= 1.3min\n",
      "[CV] clf__estimator__C=200, tfidf__smooth_idf=False, tfidf__use_idf=False \n",
      "[CV]  clf__estimator__C=200, tfidf__smooth_idf=False, tfidf__use_idf=False, score=0.633, total= 1.3min\n"
     ]
    },
    {
     "name": "stderr",
     "output_type": "stream",
     "text": [
      "[Parallel(n_jobs=1)]: Done  24 out of  24 | elapsed: 28.3min finished\n"
     ]
    },
    {
     "data": {
      "text/plain": [
       "GridSearchCV(cv=2,\n",
       "             estimator=Pipeline(steps=[('vect',\n",
       "                                        CountVectorizer(tokenizer=<function tokenize at 0x7ffabe94d8b0>)),\n",
       "                                       ('tfidf', TfidfTransformer()),\n",
       "                                       ('clf',\n",
       "                                        MultiOutputClassifier(estimator=LogisticRegression()))]),\n",
       "             n_jobs=1,\n",
       "             param_grid={'clf__estimator__C': (1, 100, 200),\n",
       "                         'tfidf__smooth_idf': (True, False),\n",
       "                         'tfidf__use_idf': (True, False)},\n",
       "             scoring=make_scorer(f1_score, average=micro), verbose=3)"
      ]
     },
     "execution_count": 136,
     "metadata": {},
     "output_type": "execute_result"
    }
   ],
   "source": [
    "cv.fit(X_train, Y_train)"
   ]
  },
  {
   "cell_type": "markdown",
   "metadata": {},
   "source": [
    "Due to significantly long time that takes for grid search, number of different parameters have been reduced to 4 and cross validation reduced to 2-fold from the default 5-fold. \n",
    "\n",
    "**Objective**\n",
    "Since this project focuses on code quality, process, and  pipelines, there is no minimum performance metric needed to pass. However, make sure to fine tune your models for accuracy, precision and recall to make your project stand out - especially for your portfolio!"
   ]
  },
  {
   "cell_type": "markdown",
   "metadata": {},
   "source": [
    "## 7. Test your model\n",
    "Show the accuracy, precision, and recall of the tuned model.  "
   ]
  },
  {
   "cell_type": "code",
   "execution_count": 137,
   "metadata": {
    "scrolled": true
   },
   "outputs": [
    {
     "data": {
      "text/plain": [
       "({'clf__estimator__C': 100,\n",
       "  'tfidf__smooth_idf': True,\n",
       "  'tfidf__use_idf': False},\n",
       " 0.6437199409482793)"
      ]
     },
     "execution_count": 137,
     "metadata": {},
     "output_type": "execute_result"
    }
   ],
   "source": [
    "cv.best_params_, cv.best_score_"
   ]
  },
  {
   "cell_type": "markdown",
   "metadata": {},
   "source": [
    "The above grid search did not really improved the micro average f1-score (0.646045 -> 0.643719). \n",
    "\n",
    "Let's fit the improved model to see the performance in detail."
   ]
  },
  {
   "cell_type": "code",
   "execution_count": 30,
   "metadata": {},
   "outputs": [],
   "source": [
    "# Constructing the second pipeline\n",
    "pipeline_test2 = Pipeline([\n",
    "    ('vect', CountVectorizer(tokenizer=tokenize)),\n",
    "    ('tfidf', TfidfTransformer(use_idf=False, smooth_idf=True)),\n",
    "    ('clf', MultiOutputClassifier(LogisticRegression(C=100)))\n",
    "])"
   ]
  },
  {
   "cell_type": "code",
   "execution_count": 31,
   "metadata": {},
   "outputs": [
    {
     "data": {
      "text/plain": [
       "Pipeline(steps=[('vect',\n",
       "                 CountVectorizer(tokenizer=<function tokenize at 0x7fb0af4bfdc0>)),\n",
       "                ('tfidf', TfidfTransformer(use_idf=False)),\n",
       "                ('clf',\n",
       "                 MultiOutputClassifier(estimator=LogisticRegression(C=100)))])"
      ]
     },
     "execution_count": 31,
     "metadata": {},
     "output_type": "execute_result"
    }
   ],
   "source": [
    "# Fit the second test pipeline\n",
    "pipeline_test2.fit(X_train, Y_train)"
   ]
  },
  {
   "cell_type": "code",
   "execution_count": 32,
   "metadata": {},
   "outputs": [],
   "source": [
    "# Predict on X_test\n",
    "Y_pred_test2 = pipeline_test2.predict(X_test)"
   ]
  },
  {
   "cell_type": "code",
   "execution_count": 33,
   "metadata": {
    "scrolled": true
   },
   "outputs": [
    {
     "name": "stdout",
     "output_type": "stream",
     "text": [
      "Accuracy score: 24.98%\n",
      "\n",
      "Classification score:\n",
      "              precision  recall  f1-score  support\n",
      "micro avg      0.711850  0.5913  0.645999  20827.0\n",
      "weighted avg   0.681031  0.5913  0.625568  20827.0\n"
     ]
    }
   ],
   "source": [
    "evaluate_model(Y_test, Y_pred_test2, expand=False)"
   ]
  },
  {
   "cell_type": "markdown",
   "metadata": {},
   "source": [
    "### Result comparion"
   ]
  },
  {
   "cell_type": "markdown",
   "metadata": {},
   "source": [
    "The accuracy score perform poorer with the parameters found with grid search. When it comes to F1 score, micro average slightly got worsen but weighted avg improved. \n",
    "\n",
    "\n",
    "| Scores          | Test1(Default)   | Test2(Grid search)|\n",
    "| --------------- |:-----------------: | -----------------:|\n",
    "| Accuracy score  | 28.64%             | 24.98%            |\n",
    "| F1 micro avg    | 0.646045           | 0.645999          |\n",
    "| F1 weighted avg | 0.585830           | 0.625568          |"
   ]
  },
  {
   "cell_type": "markdown",
   "metadata": {},
   "source": [
    "### Save the test model 2 with pickle"
   ]
  },
  {
   "cell_type": "code",
   "execution_count": 34,
   "metadata": {},
   "outputs": [],
   "source": [
    "filename = 'test_models/classifier_test2.pkl'\n",
    "pickle.dump(pipeline_test2, open(filename, 'wb'))"
   ]
  },
  {
   "cell_type": "markdown",
   "metadata": {},
   "source": [
    "## 8. Try improving your model further. \n",
    "* try other machine learning algorithms\n",
    "* ~~add other features besides the TF-IDF~~ (not for this project)"
   ]
  },
  {
   "cell_type": "markdown",
   "metadata": {},
   "source": [
    "### Using LinearSVC classifier"
   ]
  },
  {
   "cell_type": "code",
   "execution_count": 151,
   "metadata": {},
   "outputs": [],
   "source": [
    "# Create a new test pipeline with LinearSVC()\n",
    "# Using the same parameters obtained from grid search\n",
    "pipeline_test3 = Pipeline([\n",
    "    ('vect', CountVectorizer(tokenizer=tokenize)),\n",
    "    ('tfidf', TfidfTransformer(use_idf=False, smooth_idf=True)),\n",
    "    ('clf', MultiOutputClassifier(LinearSVC(C=100)))\n",
    "])"
   ]
  },
  {
   "cell_type": "code",
   "execution_count": 152,
   "metadata": {},
   "outputs": [
    {
     "data": {
      "text/plain": [
       "Pipeline(steps=[('vect',\n",
       "                 CountVectorizer(tokenizer=<function tokenize at 0x7ffabe94d8b0>)),\n",
       "                ('tfidf', TfidfTransformer(use_idf=False)),\n",
       "                ('clf', MultiOutputClassifier(estimator=LinearSVC(C=100)))])"
      ]
     },
     "execution_count": 152,
     "metadata": {},
     "output_type": "execute_result"
    }
   ],
   "source": [
    "# Fit the test model 3\n",
    "pipeline_test3.fit(X_train, Y_train)"
   ]
  },
  {
   "cell_type": "code",
   "execution_count": 153,
   "metadata": {},
   "outputs": [],
   "source": [
    "# Run predictions with X_test\n",
    "Y_pred_test3 = pipeline_test3.predict(X_test)"
   ]
  },
  {
   "cell_type": "code",
   "execution_count": 154,
   "metadata": {},
   "outputs": [
    {
     "name": "stdout",
     "output_type": "stream",
     "text": [
      "Accuracy score: 16.36%\n",
      "\n",
      "Classification score:\n",
      "              precision    recall  f1-score  support\n",
      "micro avg      0.576248  0.574063  0.575153  20827.0\n",
      "weighted avg   0.578357  0.574063  0.575515  20827.0\n"
     ]
    }
   ],
   "source": [
    "evaluate_model(Y_test, Y_pred_test3, expand=False)"
   ]
  },
  {
   "cell_type": "markdown",
   "metadata": {},
   "source": [
    "Both accuracy score and weighted avg got worse than Logistic Regression. This Linear SVC classifier model therefore will not be saved.\n",
    "\n",
    "Let's try with the last model, `RandomForestClassifer`."
   ]
  },
  {
   "cell_type": "markdown",
   "metadata": {},
   "source": [
    "### Using Random Forest classifier"
   ]
  },
  {
   "cell_type": "code",
   "execution_count": 35,
   "metadata": {},
   "outputs": [],
   "source": [
    "# Create a new test pipeline with RandomForestClassifer()\n",
    "# RandomForest use different parameters, so set to default\n",
    "pipeline_test4 = Pipeline([\n",
    "    ('vect', CountVectorizer(tokenizer=tokenize)),\n",
    "    ('tfidf', TfidfTransformer()),\n",
    "    ('clf', MultiOutputClassifier(RandomForestClassifier(random_state=11)))\n",
    "])"
   ]
  },
  {
   "cell_type": "code",
   "execution_count": 36,
   "metadata": {},
   "outputs": [],
   "source": [
    "# Fit the model and run prediction  \n",
    "# It takes longer than earlier algorithms\n",
    "pipeline_test4.fit(X_train, Y_train)\n",
    "Y_pred_test4 = pipeline_test4.predict(X_test)"
   ]
  },
  {
   "cell_type": "code",
   "execution_count": 37,
   "metadata": {},
   "outputs": [
    {
     "name": "stdout",
     "output_type": "stream",
     "text": [
      "Accuracy score: 26.73%\n",
      "\n",
      "Classification score:\n",
      "              precision    recall  f1-score  support\n",
      "micro avg      0.814211  0.532578  0.643948  20827.0\n",
      "weighted avg   0.748592  0.532578  0.571502  20827.0\n"
     ]
    }
   ],
   "source": [
    "evaluate_model(Y_test, Y_pred_test4, expand=False)"
   ]
  },
  {
   "cell_type": "markdown",
   "metadata": {},
   "source": [
    "### Comparison "
   ]
  },
  {
   "cell_type": "markdown",
   "metadata": {},
   "source": [
    "The accuracy score improved with Random Forest algorithm when compared to the Logistic Regression model after grid search. In terms of F1 score, micro avg stays at the similar level whereas weighted avg it worse with Random Forest.\n",
    "\n",
    "\n",
    "| Scores          | Test2 (Grid search)| Test4 (RandomForest)\n",
    "| --------------- |:-----------------: | -----------------: \n",
    "| Accuracy score  | 24.98%             | 26.73%            \n",
    "| F1 micro avg    | 0.645999           | 0.643948        \n",
    "| F1 weighted avg | 0.625568           | 0.571502          "
   ]
  },
  {
   "cell_type": "markdown",
   "metadata": {},
   "source": [
    "### Save the test model 4 with pickle"
   ]
  },
  {
   "cell_type": "code",
   "execution_count": 40,
   "metadata": {},
   "outputs": [],
   "source": [
    "filename = 'test_models/classifier_test4.pkl'\n",
    "pickle.dump(pipeline_test4, open(filename, 'wb'))"
   ]
  },
  {
   "cell_type": "markdown",
   "metadata": {},
   "source": [
    "### Conclusion - by far"
   ]
  },
  {
   "cell_type": "markdown",
   "metadata": {},
   "source": [
    "RandomForecst Classifer shows not much of improvement although it requires more computing power (is slower). Therefore, the earlier `pipeline_test2` will be used --> Logistic Regression model(c=100)."
   ]
  },
  {
   "cell_type": "markdown",
   "metadata": {},
   "source": [
    "## 9. Export your model as a pickle file\n",
    "As `classifier_v1.sav`, the model version 1."
   ]
  },
  {
   "cell_type": "code",
   "execution_count": 161,
   "metadata": {},
   "outputs": [],
   "source": [
    "filename = 'test_models/classifier_v1.pkl'\n",
    "pickle.dump(pipeline_test2, open(filename, 'wb'))"
   ]
  },
  {
   "cell_type": "markdown",
   "metadata": {},
   "source": [
    "## 10. Create a script --> `train_classifier.py`"
   ]
  }
 ],
 "metadata": {
  "kernelspec": {
   "display_name": "Python 3",
   "language": "python",
   "name": "python3"
  },
  "language_info": {
   "codemirror_mode": {
    "name": "ipython",
    "version": 3
   },
   "file_extension": ".py",
   "mimetype": "text/x-python",
   "name": "python",
   "nbconvert_exporter": "python",
   "pygments_lexer": "ipython3",
   "version": "3.8.5"
  }
 },
 "nbformat": 4,
 "nbformat_minor": 2
}
